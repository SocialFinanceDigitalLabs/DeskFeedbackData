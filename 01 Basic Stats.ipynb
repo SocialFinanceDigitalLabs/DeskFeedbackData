{
 "cells": [
  {
   "cell_type": "code",
   "execution_count": null,
   "metadata": {},
   "outputs": [],
   "source": [
    "# Start with loading all necessary libraries\n",
    "import numpy as np\n",
    "import pandas as pd\n",
    "from os import path\n",
    "import re\n",
    "\n",
    "import matplotlib.pyplot as plt\n",
    "%matplotlib inline"
   ]
  },
  {
   "cell_type": "code",
   "execution_count": null,
   "metadata": {},
   "outputs": [],
   "source": [
    "df = pd.read_excel(\"data/Desk Preferences - anonymised.xlsx\")\n",
    "df.sample(5)"
   ]
  },
  {
   "cell_type": "code",
   "execution_count": null,
   "metadata": {},
   "outputs": [],
   "source": [
    "df[\"Home Team\"].value_counts()"
   ]
  },
  {
   "cell_type": "code",
   "execution_count": null,
   "metadata": {},
   "outputs": [],
   "source": [
    "teams = {\n",
    "    \"A-Team\": [\".*Advis.*\", \".*A.*Team.*\"],\n",
    "    \"Central\": [\".*Central.*\",\".*Senior.*\"],\n",
    "    \"Health\": [\".*Health.*\",\".*HEP.*\"],\n",
    "    \"International\": [\".*International.*\"],\n",
    "    \"Impact Incubator\": [\".*Impact.*\",\".*I I.*\"],\n",
    "    \"Leaving Well\": [\".*Leaving.*\"],\n",
    "    \"DigiLabs\": [\".*Digi.*Labs.*\"],\n",
    "}\n",
    "     \n",
    "df[\"CleanedTeam\"] = df[\"Home Team\"]\n",
    "for team, patterns in teams.items():\n",
    "    for pattern in patterns:\n",
    "        df[\"CleanedTeam\"] = df[\"CleanedTeam\"].str.replace(pattern, team, flags=re.IGNORECASE)\n",
    "                \n",
    "df[\"CleanedTeam\"].value_counts()"
   ]
  },
  {
   "cell_type": "code",
   "execution_count": null,
   "metadata": {},
   "outputs": [],
   "source": [
    "\n",
    "def make_autopct(values):\n",
    "    def my_autopct(pct):\n",
    "        total = sum(values)\n",
    "        val = int(round(pct*total/100.0))\n",
    "        return '{p:.0f}%  ({v:d})'.format(p=pct,v=val)\n",
    "    return my_autopct\n",
    "\n",
    "\n",
    "counts = df[\"CleanedTeam\"].value_counts()\n",
    "counts.plot(\"pie\", label=\"\", autopct=make_autopct(counts))"
   ]
  },
  {
   "cell_type": "code",
   "execution_count": null,
   "metadata": {},
   "outputs": [],
   "source": [
    "counts = df[\"In a typical week, how many days are you in the office?\"].value_counts(sort=False,bins=range(0,6))\n",
    "counts.plot(\"pie\", label=\"\", autopct=make_autopct(counts),counterclock=False,labels=range(1,6))\n",
    "counts"
   ]
  },
  {
   "cell_type": "code",
   "execution_count": null,
   "metadata": {},
   "outputs": [],
   "source": [
    "counts = df[\"At your desk\"].value_counts()\n",
    "counts.plot(\"pie\", label=\"\", autopct=make_autopct(counts))"
   ]
  },
  {
   "cell_type": "code",
   "execution_count": null,
   "metadata": {},
   "outputs": [],
   "source": []
  }
 ],
 "metadata": {
  "kernelspec": {
   "display_name": "Python 3",
   "language": "python",
   "name": "python3"
  },
  "language_info": {
   "codemirror_mode": {
    "name": "ipython",
    "version": 3
   },
   "file_extension": ".py",
   "mimetype": "text/x-python",
   "name": "python",
   "nbconvert_exporter": "python",
   "pygments_lexer": "ipython3",
   "version": "3.7.3"
  }
 },
 "nbformat": 4,
 "nbformat_minor": 2
}
