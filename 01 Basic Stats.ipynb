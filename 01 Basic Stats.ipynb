{
 "cells": [
  {
   "cell_type": "code",
   "execution_count": null,
   "metadata": {},
   "outputs": [],
   "source": [
    "# Start with loading all necessary libraries\n",
    "import numpy as np\n",
    "import pandas as pd\n",
    "from os import path\n",
    "import re\n",
    "\n",
    "import seaborn as sns\n",
    "sns.set()\n",
    "\n",
    "import matplotlib.pyplot as plt\n",
    "%matplotlib inline\n",
    "\n"
   ]
  },
  {
   "cell_type": "markdown",
   "metadata": {},
   "source": [
    "# Let's read some data"
   ]
  },
  {
   "cell_type": "code",
   "execution_count": null,
   "metadata": {},
   "outputs": [],
   "source": [
    "df = pd.read_excel(\"data/Desk Preferences - anonymised.xlsx\", index_col=0)\n",
    "df.sample(5)"
   ]
  },
  {
   "cell_type": "markdown",
   "metadata": {},
   "source": [
    "# Cleaning Teams\n",
    "\n",
    "We purposefully made the teams free-text to see what people would write. For example, there are some pure gems such as:"
   ]
  },
  {
   "cell_type": "code",
   "execution_count": null,
   "metadata": {},
   "outputs": [],
   "source": [
    "df.iloc[41][\"Home Team\"]"
   ]
  },
  {
   "cell_type": "markdown",
   "metadata": {},
   "source": [
    "Anyway - it means we have to do a little bit of cleaning before we do some analysis. Let's look at the current values:"
   ]
  },
  {
   "cell_type": "code",
   "execution_count": null,
   "metadata": {},
   "outputs": [],
   "source": [
    "df[\"Home Team\"].value_counts()"
   ]
  },
  {
   "cell_type": "markdown",
   "metadata": {},
   "source": [
    "We'll build a dictionary holding our \"official\" names, and for each a list of regular expressions that should hopefully catch all of the above:"
   ]
  },
  {
   "cell_type": "code",
   "execution_count": null,
   "metadata": {},
   "outputs": [],
   "source": [
    "teams = {\n",
    "    \"A-Team\": [\".*Advis.*\", \".*A.*Team.*\"],\n",
    "    \"Central\": [\".*Central.*\",\".*Senior.*\"],\n",
    "    \"Health\": [\".*Health.*\",\".*HEP.*\"],\n",
    "    \"International\": [\".*International.*\"],\n",
    "    \"Impact Incubator\": [\".*Impact.*\",\".*I I.*\"],\n",
    "    \"Leaving Well\": [\".*Leaving.*\"],\n",
    "    \"DigiLabs\": [\".*Digi.*Labs.*\"],\n",
    "}\n",
    "     \n",
    "df[\"CleanedTeam\"] = df[\"Home Team\"]\n",
    "for team, patterns in teams.items():\n",
    "    for pattern in patterns:\n",
    "        df[\"CleanedTeam\"] = df[\"CleanedTeam\"].str.replace(pattern, team, flags=re.IGNORECASE)\n",
    "                \n",
    "df[\"CleanedTeam\"].value_counts()"
   ]
  },
  {
   "cell_type": "markdown",
   "metadata": {},
   "source": [
    "# Let's see where people are from"
   ]
  },
  {
   "cell_type": "code",
   "execution_count": null,
   "metadata": {},
   "outputs": [],
   "source": [
    "\n",
    "def make_autopct(values):\n",
    "    def my_autopct(pct):\n",
    "        total = sum(values)\n",
    "        val = int(round(pct*total/100.0))\n",
    "        return '{p:.0f}%  ({v:d})'.format(p=pct,v=val)\n",
    "    return my_autopct\n",
    "\n",
    "\n",
    "counts = df[\"CleanedTeam\"].value_counts()\n",
    "counts.plot(\"pie\", label=\"\", autopct=make_autopct(counts))"
   ]
  },
  {
   "cell_type": "markdown",
   "metadata": {},
   "source": [
    "# How many days do people typically spend in the office "
   ]
  },
  {
   "cell_type": "code",
   "execution_count": null,
   "metadata": {},
   "outputs": [],
   "source": [
    "counts = df[\"In a typical week, how many days are you in the office?\"].value_counts(sort=False,bins=range(0,6))\n",
    "counts.plot(\"pie\", label=\"\", autopct=make_autopct(counts),counterclock=False,labels=range(1,6))"
   ]
  },
  {
   "cell_type": "code",
   "execution_count": null,
   "metadata": {},
   "outputs": [],
   "source": [
    "def stacked_bar(df, col1, col2=\"CleanedTeam\", name1=None, name2=None, pct=True, show_table=False):\n",
    "    counts = df.copy().reset_index()\n",
    "#     counts[col1] = df[col1].round()\n",
    "    counts = counts[[col2,col1,\"ID\"]].groupby([col1,col2]).count().unstack()\n",
    "    counts = counts.fillna(0).astype(int)\n",
    "\n",
    "    columns = list(counts.columns.levels[1])\n",
    "    counts.columns = columns\n",
    "    counts.columns.name = name2\n",
    "    counts.index.name = name1\n",
    "\n",
    "    # Convert to percent\n",
    "    for c in counts.columns:\n",
    "        total = counts[c].sum()\n",
    "        counts[c] = (counts[c]/total)*100\n",
    "\n",
    "    if show_table:\n",
    "        display(counts)\n",
    "    \n",
    "    \n",
    "    counts.T.plot(kind='bar', stacked=True)\n",
    "    plt.legend(bbox_to_anchor=(1.05, 1), loc=2, borderaxespad=0., title=name1)\n",
    "    \n",
    "stacked_bar(df, col1=\"In a typical week, how many days are you in the office?\", name1=\"Days\", show_table=True)"
   ]
  },
  {
   "cell_type": "markdown",
   "metadata": {},
   "source": [
    "# How much time do people actually spend at their desk"
   ]
  },
  {
   "cell_type": "code",
   "execution_count": null,
   "metadata": {},
   "outputs": [],
   "source": [
    "counts = df[\"At your desk\"].value_counts()\n",
    "counts.plot(\"pie\", label=\"\", autopct=make_autopct(counts))"
   ]
  },
  {
   "cell_type": "code",
   "execution_count": null,
   "metadata": {},
   "outputs": [],
   "source": [
    "# Rename series so that they sort nicely\n",
    "counts = df.copy()\n",
    "counts[\"At your desk\"] = counts[\"At your desk\"].replace({\"Once a day\": \"1-Once\", \"Several times a day\": \"2-Several\",\"Most of the day\": \"3-Most\"})\n",
    "\n",
    "stacked_bar(counts, col1=\"At your desk\", show_table=True)"
   ]
  },
  {
   "cell_type": "markdown",
   "metadata": {},
   "source": [
    "# Not many people love hotdesking..."
   ]
  },
  {
   "cell_type": "code",
   "execution_count": null,
   "metadata": {},
   "outputs": [],
   "source": [
    "counts = df[\"How do you feel about hotdesking / sharing a desk?\"].value_counts()\n",
    "counts.plot(\"pie\", label=\"\", autopct=make_autopct(counts))"
   ]
  },
  {
   "cell_type": "code",
   "execution_count": null,
   "metadata": {},
   "outputs": [],
   "source": [
    "# Rename series so that they sort nicely\n",
    "counts = df.copy()\n",
    "counts[\"How do you feel about hotdesking / sharing a desk?\"] = counts[\"How do you feel about hotdesking / sharing a desk?\"] \\\n",
    "    .replace({\"Hate it\": \"1-Hate\", \n",
    "             \"Don't care\": \"2-IDC\",\n",
    "             \"Love it\": \"3-\\N{Heavy Black Heart}\"})\n",
    "\n",
    "stacked_bar(counts, col1=\"How do you feel about hotdesking / sharing a desk?\", show_table=True)"
   ]
  }
 ],
 "metadata": {
  "kernelspec": {
   "display_name": "Python 3",
   "language": "python",
   "name": "python3"
  },
  "language_info": {
   "codemirror_mode": {
    "name": "ipython",
    "version": 3
   },
   "file_extension": ".py",
   "mimetype": "text/x-python",
   "name": "python",
   "nbconvert_exporter": "python",
   "pygments_lexer": "ipython3",
   "version": "3.7.3"
  }
 },
 "nbformat": 4,
 "nbformat_minor": 2
}
